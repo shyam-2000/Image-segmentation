{
  "nbformat": 4,
  "nbformat_minor": 0,
  "metadata": {
    "colab": {
      "provenance": []
    },
    "kernelspec": {
      "name": "python3",
      "display_name": "Python 3"
    },
    "language_info": {
      "name": "python"
    }
  },
  "cells": [
    {
      "cell_type": "code",
      "execution_count": null,
      "metadata": {
        "colab": {
          "base_uri": "https://localhost:8080/"
        },
        "id": "KS895Ambxv4V",
        "outputId": "9524a985-40e1-4661-ddd2-ded17994065d"
      },
      "outputs": [
        {
          "output_type": "stream",
          "name": "stdout",
          "text": [
            "Looking in indexes: https://pypi.org/simple, https://us-python.pkg.dev/colab-wheels/public/simple/\n",
            "Collecting SimpleITK\n",
            "  Downloading SimpleITK-2.2.1-cp310-cp310-manylinux_2_17_x86_64.manylinux2014_x86_64.whl (52.7 MB)\n",
            "\u001b[2K     \u001b[90m━━━━━━━━━━━━━━━━━━━━━━━━━━━━━━━━━━━━━━━━\u001b[0m \u001b[32m52.7/52.7 MB\u001b[0m \u001b[31m13.0 MB/s\u001b[0m eta \u001b[36m0:00:00\u001b[0m\n",
            "\u001b[?25hInstalling collected packages: SimpleITK\n",
            "Successfully installed SimpleITK-2.2.1\n"
          ]
        }
      ],
      "source": [
        "!pip install SimpleITK"
      ]
    },
    {
      "cell_type": "code",
      "source": [
        "import sys\n",
        "\n",
        "from keras.models import Sequential\n",
        "from keras.layers import Dense, Conv1D, Flatten, MaxPooling1D\n",
        "from sklearn.model_selection import train_test_split\n",
        "from sklearn.metrics import confusion_matrix\n",
        "from sklearn.datasets import load_iris\n",
        "from numpy import unique\n",
        "\n",
        "import os\n",
        "import matplotlib.pyplot as plt\n",
        "import pandas as pd\n",
        "import numpy as np\n",
        "import nibabel as nib\n",
        "import csv\n",
        "\n",
        "# from radiomics.glcm import RadiomicsGLCM\n",
        "import SimpleITK as sitk\n",
        "\n",
        "from google.colab import drive\n",
        "drive.mount('/content/drive')\n",
        "%matplotlib inline\n",
        "\n",
        "seed = 42\n",
        "DATA_PATH = \"drive/MyDrive/Colab Notebooks/CT-PET Classifier/data\""
      ],
      "metadata": {
        "colab": {
          "base_uri": "https://localhost:8080/"
        },
        "id": "yXC0KV2y0izy",
        "outputId": "ebc6bd70-b5c3-47af-ae02-9f9ad360e6d0"
      },
      "execution_count": null,
      "outputs": [
        {
          "output_type": "stream",
          "name": "stdout",
          "text": [
            "Mounted at /content/drive\n"
          ]
        }
      ]
    },
    {
      "cell_type": "code",
      "source": [
        "import numpy as np # linear algebra\n",
        "import pandas as pd # data processing, CSV file I/O (e.g. pd.read_csv)\n",
        "import os\n",
        "import cv2 as cv\n",
        "import matplotlib.pyplot as plt\n",
        "from keras.applications import vgg16\n",
        "from keras.models import Model,load_model\n",
        "import keras\n",
        "from keras.layers import Input, Conv2D, Conv2DTranspose,AveragePooling2D, MaxPooling2D,UpSampling2D,LeakyReLU, concatenate, Dropout,BatchNormalization,Activation\n",
        "from keras.callbacks import EarlyStopping,ModelCheckpoint\n",
        "import pandas as pd\n",
        "from keras.optimizers import Adam\n",
        "from sklearn.model_selection import train_test_split\n",
        "from numpy.random import seed\n",
        "seed(123)\n",
        "import tensorflow as tf\n",
        "#tf.set_random_seed(123)\n",
        "from keras import backend as K\n",
        "# session_conf = tf.ConfigProto(intra_op_parallelism_threads=1, inter_op_parallelism_threads=1)\n",
        "# sess = tf.Session(graph=tf.get_default_graph(), config=session_conf)\n",
        "# K.set_session(sess)"
      ],
      "metadata": {
        "id": "4SZxwXkp1xdU"
      },
      "execution_count": null,
      "outputs": []
    },
    {
      "cell_type": "code",
      "source": [],
      "metadata": {
        "id": "kvrtmAWP3KQ1"
      },
      "execution_count": null,
      "outputs": []
    },
    {
      "cell_type": "code",
      "source": [
        "def load_features():\n",
        "  image_depth=16\n",
        "  image_size=64\n",
        "  data, labels = [], []\n",
        "  for sbj in range(100):\n",
        "    if sbj % 10 == 9:\n",
        "      print(f\"{sbj + 1} / 100 patients loaded\")\n",
        "\n",
        "    if os.path.exists(f\"{DATA_PATH}/CLASS1_MALIGNANT/LCp{sbj:04}_biobank\"):\n",
        "      label = \"CLASS1_MALIGNANT\"\n",
        "    elif os.path.exists(f\"{DATA_PATH}/CLASS2_BENIGN/LCp{sbj:04}_biobank\"):\n",
        "      label = \"CLASS2_BENIGN\"\n",
        "    else:\n",
        "      continue\n",
        "\n",
        "\n",
        "    # pet_scan = np.array(nib.load(f\"{DATA_PATH}/{label}/LCp{sbj:04}_biobank/LCp{sbj:04}_PT_partition.nii\").dataobj)\n",
        "    ct_scan = sitk.ReadImage(f\"{DATA_PATH}/{label}/LCp{sbj:04}_biobank/LCp{sbj:04}_CT_partition.nii\")\n",
        "    ct_scan= sitk.GetArrayFromImage(img,msk=[],[]\n",
        "for sbj in range(100):\n",
        "  try:\n",
        "    img.append(np.load(f\"{DATA_PATH}/segmentation/{sbj:04}/CT_image.npy\"))\n",
        "    msk.append(np.load(f\"{DATA_PATH}/segmentation/{sbj:04}/CT_mask.npy\"))\n",
        "\n",
        "\n",
        "  except FileNotFoundError:\n",
        "    continue\n",
        "\n",
        "img = np.array(img)\n",
        "msk = np.array(msk)t_scan)\n",
        "    # pet_mask = np.array(nib.load(f\"{DATA_PATH}/{label}/LCp{sbj:04}_biobank/LCp{sbj:04}_PT_mask.nii\").dataobj)\n",
        "    mask = sitk.ReadImage(f\"{DATA_PATH}/{label}/LCp{sbj:04}_biobank/LCp{sbj:04}_CT_mask.nii\")\n",
        "    mask= sitk.GetArrayFromImage(mask)\n",
        "\n",
        "    roi = np.unique(np.where(mask==1),axis=0)\n",
        "    roi_cx,roi_cy,roi_cz=(roi.max(axis=1)+roi.min(axis=1))//2\n",
        "    bounding_box=mask[\n",
        "        roi_cx-image_depth//2:roi_cx+image_depth//2,\n",
        "        roi_cy-image_size//2:roi_cy+image_size//2,\n",
        "        roi_cz-image_size//2:roi_cz+image_size//2\n",
        "    ]\n",
        "    image_out=ct_scan[\n",
        "        roi_cx-image_depth//2:roi_cx+image_depth//2,\n",
        "        roi_cy-image_size//2:roi_cy+image_size//2,\n",
        "        roi_cz-image_size//2:roi_cz+image_size//2\n",
        "\n",
        "    ]\n",
        "\n",
        "    os.mkdir(f\"{DATA_PATH}/segmentation/{sbj:04}\")\n",
        "    np.save(f\"{DATA_PATH}/segmentation/{sbj:04}/CT_image.npy\", image_out)\n",
        "    np.save(f\"{DATA_PATH}/segmentation/{sbj:04}/CT_mask.npy\", bounding_box)\n",
        "\n",
        ""
      ],
      "metadata": {
        "id": "sxuelBSV0xNf"
      },
      "execution_count": null,
      "outputs": []
    },
    {
      "cell_type": "code",
      "source": [],
      "metadata": {
        "id": "f7QMRhWLUOTa"
      },
      "execution_count": null,
      "outputs": []
    },
    {
      "cell_type": "code",
      "source": [
        "load_features()"
      ],
      "metadata": {
        "id": "cq0TZjHK01M1"
      },
      "execution_count": null,
      "outputs": []
    },
    {
      "cell_type": "code",
      "source": [
        "img,msk=[],[]\n",
        "for sbj in range(100):\n",
        "  try:\n",
        "    img.append(np.load(f\"{DATA_PATH}/segmentation/{sbj:04}/CT_image.npy\"))\n",
        "    msk.append(np.load(f\"{DATA_PATH}/segmentation/{sbj:04}/CT_mask.npy\"))\n",
        "\n",
        "\n",
        "  except FileNotFoundError:\n",
        "    continue\n",
        "\n",
        "img = np.array(img)\n",
        "msk = np.array(msk)"
      ],
      "metadata": {
        "id": "D_7wzU_Q04-f"
      },
      "execution_count": null,
      "outputs": []
    },
    {
      "cell_type": "code",
      "source": [
        "img_test.shape"
      ],
      "metadata": {
        "colab": {
          "base_uri": "https://localhost:8080/"
        },
        "id": "rBOpzCkpL91P",
        "outputId": "88b1aa22-278f-473e-9fc7-03f545789cae"
      },
      "execution_count": null,
      "outputs": [
        {
          "output_type": "execute_result",
          "data": {
            "text/plain": [
              "(18, 16, 64, 64)"
            ]
          },
          "metadata": {},
          "execution_count": 29
        }
      ]
    },
    {
      "cell_type": "code",
      "source": [
        "img_train,img_test,mask_train,mask_test= train_test_split(img, msk, test_size=0.3)"
      ],
      "metadata": {
        "id": "gMKQSt8K0-yC"
      },
      "execution_count": null,
      "outputs": []
    },
    {
      "cell_type": "code",
      "source": [
        "!pip install pytorch_lightning"
      ],
      "metadata": {
        "colab": {
          "base_uri": "https://localhost:8080/"
        },
        "id": "ywOPBJJLHUtb",
        "outputId": "93e174f8-c682-45b4-8240-0bf70ccc3708"
      },
      "execution_count": null,
      "outputs": [
        {
          "output_type": "stream",
          "name": "stdout",
          "text": [
            "Looking in indexes: https://pypi.org/simple, https://us-python.pkg.dev/colab-wheels/public/simple/\n",
            "Collecting pytorch_lightning\n",
            "  Downloading pytorch_lightning-2.0.2-py3-none-any.whl (719 kB)\n",
            "\u001b[2K     \u001b[90m━━━━━━━━━━━━━━━━━━━━━━━━━━━━━━━━━━━━━━\u001b[0m \u001b[32m719.0/719.0 kB\u001b[0m \u001b[31m25.4 MB/s\u001b[0m eta \u001b[36m0:00:00\u001b[0m\n",
            "\u001b[?25hRequirement already satisfied: numpy>=1.17.2 in /usr/local/lib/python3.10/dist-packages (from pytorch_lightning) (1.22.4)\n",
            "Requirement already satisfied: torch>=1.11.0 in /usr/local/lib/python3.10/dist-packages (from pytorch_lightning) (2.0.0+cu118)\n",
            "Requirement already satisfied: tqdm>=4.57.0 in /usr/local/lib/python3.10/dist-packages (from pytorch_lightning) (4.65.0)\n",
            "Requirement already satisfied: PyYAML>=5.4 in /usr/local/lib/python3.10/dist-packages (from pytorch_lightning) (6.0)\n",
            "Requirement already satisfied: fsspec[http]>2021.06.0 in /usr/local/lib/python3.10/dist-packages (from pytorch_lightning) (2023.4.0)\n",
            "Collecting torchmetrics>=0.7.0 (from pytorch_lightning)\n",
            "  Downloading torchmetrics-0.11.4-py3-none-any.whl (519 kB)\n",
            "\u001b[2K     \u001b[90m━━━━━━━━━━━━━━━━━━━━━━━━━━━━━━━━━━━━━━\u001b[0m \u001b[32m519.2/519.2 kB\u001b[0m \u001b[31m39.0 MB/s\u001b[0m eta \u001b[36m0:00:00\u001b[0m\n",
            "\u001b[?25hRequirement already satisfied: packaging>=17.1 in /usr/local/lib/python3.10/dist-packages (from pytorch_lightning) (23.1)\n",
            "Requirement already satisfied: typing-extensions>=4.0.0 in /usr/local/lib/python3.10/dist-packages (from pytorch_lightning) (4.5.0)\n",
            "Collecting lightning-utilities>=0.7.0 (from pytorch_lightning)\n",
            "  Downloading lightning_utilities-0.8.0-py3-none-any.whl (20 kB)\n",
            "Requirement already satisfied: requests in /usr/local/lib/python3.10/dist-packages (from fsspec[http]>2021.06.0->pytorch_lightning) (2.27.1)\n",
            "Collecting aiohttp!=4.0.0a0,!=4.0.0a1 (from fsspec[http]>2021.06.0->pytorch_lightning)\n",
            "  Downloading aiohttp-3.8.4-cp310-cp310-manylinux_2_17_x86_64.manylinux2014_x86_64.whl (1.0 MB)\n",
            "\u001b[2K     \u001b[90m━━━━━━━━━━━━━━━━━━━━━━━━━━━━━━━━━━━━━━━━\u001b[0m \u001b[32m1.0/1.0 MB\u001b[0m \u001b[31m39.8 MB/s\u001b[0m eta \u001b[36m0:00:00\u001b[0m\n",
            "\u001b[?25hRequirement already satisfied: filelock in /usr/local/lib/python3.10/dist-packages (from torch>=1.11.0->pytorch_lightning) (3.12.0)\n",
            "Requirement already satisfied: sympy in /usr/local/lib/python3.10/dist-packages (from torch>=1.11.0->pytorch_lightning) (1.11.1)\n",
            "Requirement already satisfied: networkx in /usr/local/lib/python3.10/dist-packages (from torch>=1.11.0->pytorch_lightning) (3.1)\n",
            "Requirement already satisfied: jinja2 in /usr/local/lib/python3.10/dist-packages (from torch>=1.11.0->pytorch_lightning) (3.1.2)\n",
            "Requirement already satisfied: triton==2.0.0 in /usr/local/lib/python3.10/dist-packages (from torch>=1.11.0->pytorch_lightning) (2.0.0)\n",
            "Requirement already satisfied: cmake in /usr/local/lib/python3.10/dist-packages (from triton==2.0.0->torch>=1.11.0->pytorch_lightning) (3.25.2)\n",
            "Requirement already satisfied: lit in /usr/local/lib/python3.10/dist-packages (from triton==2.0.0->torch>=1.11.0->pytorch_lightning) (16.0.3)\n",
            "Requirement already satisfied: attrs>=17.3.0 in /usr/local/lib/python3.10/dist-packages (from aiohttp!=4.0.0a0,!=4.0.0a1->fsspec[http]>2021.06.0->pytorch_lightning) (23.1.0)\n",
            "Requirement already satisfied: charset-normalizer<4.0,>=2.0 in /usr/local/lib/python3.10/dist-packages (from aiohttp!=4.0.0a0,!=4.0.0a1->fsspec[http]>2021.06.0->pytorch_lightning) (2.0.12)\n",
            "Collecting multidict<7.0,>=4.5 (from aiohttp!=4.0.0a0,!=4.0.0a1->fsspec[http]>2021.06.0->pytorch_lightning)\n",
            "  Downloading multidict-6.0.4-cp310-cp310-manylinux_2_17_x86_64.manylinux2014_x86_64.whl (114 kB)\n",
            "\u001b[2K     \u001b[90m━━━━━━━━━━━━━━━━━━━━━━━━━━━━━━━━━━━━━━\u001b[0m \u001b[32m114.5/114.5 kB\u001b[0m \u001b[31m13.0 MB/s\u001b[0m eta \u001b[36m0:00:00\u001b[0m\n",
            "\u001b[?25hCollecting async-timeout<5.0,>=4.0.0a3 (from aiohttp!=4.0.0a0,!=4.0.0a1->fsspec[http]>2021.06.0->pytorch_lightning)\n",
            "  Downloading async_timeout-4.0.2-py3-none-any.whl (5.8 kB)\n",
            "Collecting yarl<2.0,>=1.0 (from aiohttp!=4.0.0a0,!=4.0.0a1->fsspec[http]>2021.06.0->pytorch_lightning)\n",
            "  Downloading yarl-1.9.2-cp310-cp310-manylinux_2_17_x86_64.manylinux2014_x86_64.whl (268 kB)\n",
            "\u001b[2K     \u001b[90m━━━━━━━━━━━━━━━━━━━━━━━━━━━━━━━━━━━━━━\u001b[0m \u001b[32m268.8/268.8 kB\u001b[0m \u001b[31m24.0 MB/s\u001b[0m eta \u001b[36m0:00:00\u001b[0m\n",
            "\u001b[?25hCollecting frozenlist>=1.1.1 (from aiohttp!=4.0.0a0,!=4.0.0a1->fsspec[http]>2021.06.0->pytorch_lightning)\n",
            "  Downloading frozenlist-1.3.3-cp310-cp310-manylinux_2_5_x86_64.manylinux1_x86_64.manylinux_2_17_x86_64.manylinux2014_x86_64.whl (149 kB)\n",
            "\u001b[2K     \u001b[90m━━━━━━━━━━━━━━━━━━━━━━━━━━━━━━━━━━━━━━\u001b[0m \u001b[32m149.6/149.6 kB\u001b[0m \u001b[31m16.0 MB/s\u001b[0m eta \u001b[36m0:00:00\u001b[0m\n",
            "\u001b[?25hCollecting aiosignal>=1.1.2 (from aiohttp!=4.0.0a0,!=4.0.0a1->fsspec[http]>2021.06.0->pytorch_lightning)\n",
            "  Downloading aiosignal-1.3.1-py3-none-any.whl (7.6 kB)\n",
            "Requirement already satisfied: MarkupSafe>=2.0 in /usr/local/lib/python3.10/dist-packages (from jinja2->torch>=1.11.0->pytorch_lightning) (2.1.2)\n",
            "Requirement already satisfied: urllib3<1.27,>=1.21.1 in /usr/local/lib/python3.10/dist-packages (from requests->fsspec[http]>2021.06.0->pytorch_lightning) (1.26.15)\n",
            "Requirement already satisfied: certifi>=2017.4.17 in /usr/local/lib/python3.10/dist-packages (from requests->fsspec[http]>2021.06.0->pytorch_lightning) (2022.12.7)\n",
            "Requirement already satisfied: idna<4,>=2.5 in /usr/local/lib/python3.10/dist-packages (from requests->fsspec[http]>2021.06.0->pytorch_lightning) (3.4)\n",
            "Requirement already satisfied: mpmath>=0.19 in /usr/local/lib/python3.10/dist-packages (from sympy->torch>=1.11.0->pytorch_lightning) (1.3.0)\n",
            "Installing collected packages: multidict, lightning-utilities, frozenlist, async-timeout, yarl, aiosignal, aiohttp, torchmetrics, pytorch_lightning\n",
            "Successfully installed aiohttp-3.8.4 aiosignal-1.3.1 async-timeout-4.0.2 frozenlist-1.3.3 lightning-utilities-0.8.0 multidict-6.0.4 pytorch_lightning-2.0.2 torchmetrics-0.11.4 yarl-1.9.2\n"
          ]
        }
      ]
    },
    {
      "cell_type": "code",
      "source": [
        "import glob\n",
        "import os\n",
        "\n",
        "import matplotlib.pyplot as plt\n",
        "import numpy as np\n",
        "import pandas as pd\n",
        "import albumentations as A\n",
        "from albumentations.pytorch import ToTensorV2\n",
        "import cv2\n",
        "import torch\n",
        "import torch.nn as nn\n",
        "import torch.nn.functional as F\n",
        "from torch.utils.data import Dataset, DataLoader, random_split\n",
        "import pytorch_lightning as pl\n",
        "from pytorch_lightning.callbacks import Callback, EarlyStopping, ModelCheckpoint"
      ],
      "metadata": {
        "id": "BYO7Y-4EJm87"
      },
      "execution_count": null,
      "outputs": []
    },
    {
      "cell_type": "code",
      "source": [
        "class config:\n",
        "    batch_size = 16\n",
        "    lr = 0.0001\n",
        "    max_epochs = 30\n",
        "    early_stopping_patience = 5"
      ],
      "metadata": {
        "id": "H5HBrQB_Jqrf"
      },
      "execution_count": null,
      "outputs": []
    },
    {
      "cell_type": "code",
      "source": [
        "def mask_of(file_path):\n",
        "    \"\"\"\n",
        "    get file path of masked image\n",
        "    example: TCGA_CS_4941_19960909_1.tif -> TCGA_CS_4941_19960909_1_mask.tif\n",
        "    \"\"\"\n",
        "    body = file_path[:-4]\n",
        "    return body + '_mask.tif'"
      ],
      "metadata": {
        "id": "MxmLN1lvVNPS"
      },
      "execution_count": null,
      "outputs": []
    },
    {
      "cell_type": "code",
      "source": [
        "\n",
        "imgg,mskk=[],[]\n",
        "for sbj in range(2):\n",
        "  try:\n",
        "    imgg.append(np.load(f\"{DATA_PATH}/segmentation/{sbj:04}/CT_image.npy\"))\n",
        "    mskk.append(np.load(f\"{DATA_PATH}/segmentation/{sbj:04}/CT_mask.npy\"))\n",
        "\n",
        "\n",
        "  except FileNotFoundError:\n",
        "    continue\n",
        "\n",
        "img_ = np.array(imgg)\n",
        "msk_ = np.array(mskk)\n",
        "print(msk_.shape)\n",
        "\n",
        "fig, ax = plt.subplots(1, 2, figsize=(16, 8))\n",
        "ax[0].imshow(img_[0,8,:,:])\n",
        "ax[1].imshow(msk_[0,7,:,:])"
      ],
      "metadata": {
        "colab": {
          "base_uri": "https://localhost:8080/",
          "height": 659
        },
        "id": "xXbvPUWSKH3F",
        "outputId": "7d2172a3-c2d7-4f62-9edd-9b3b680868c0"
      },
      "execution_count": null,
      "outputs": [
        {
          "output_type": "stream",
          "name": "stdout",
          "text": [
            "(1, 16, 64, 64)\n"
          ]
        },
        {
          "output_type": "execute_result",
          "data": {
            "text/plain": [
              "<matplotlib.image.AxesImage at 0x7f233d593820>"
            ]
          },
          "metadata": {},
          "execution_count": 44
        },
        {
          "output_type": "display_data",
          "data": {
            "text/plain": [
              "<Figure size 1600x800 with 2 Axes>"
            ],
            "image/png": "[encoded data removed]"
          },
          "metadata": {}
        }
      ]
    },
    {
      "cell_type": "code",
      "source": [
        "transform = A.Compose([\n",
        "    A.Normalize(p=1.0),\n",
        "    ToTensorV2()\n",
        "])"
      ],
      "metadata": {
        "id": "fU-XjStIOORg"
      },
      "execution_count": null,
      "outputs": []
    },
    {
      "cell_type": "code",
      "source": [
        "class CTDataset(Dataset):\n",
        "    def __init__(self, file_list, transform, train=True):\n",
        "        self.file_list = file_list\n",
        "        self.train = train\n",
        "        self.transform = transform\n",
        "\n",
        "    def __len__(self):\n",
        "        return len(self.file_list)\n",
        "\n",
        "    def __getitem__(self, idx):\n",
        "        file = file_list[idx]\n",
        "        img = cv2.imread(file)\n",
        "        mask = cv2.imread(mask_of(file), 0).clip(0, 1).astype('float32')[np.newaxis, :]\n",
        "        transformed = transform(image=img, mask=mask)\n",
        "        img, mask = transformed['image'], transformed['mask']\n",
        "        if not self.train:\n",
        "            return img\n",
        "        else:\n",
        "            return img, mask"
      ],
      "metadata": {
        "id": "FZ8lHLvSTGfP"
      },
      "execution_count": null,
      "outputs": []
    },
    {
      "cell_type": "code",
      "source": [
        "n_train = 2000\n",
        "data = CTDataset(file_list[:n_train], transform=transform, train=True)\n",
        "data_te =CT   Dataset(file_list[n_train:], transform=transform, train=True)\n",
        "\n",
        "n = len(data)\n",
        "data_tr, data_va = random_split(data, [int(0.8*n), int(0.2*n)])\n",
        "\n",
        "dataloader_tr = DataLoader(data_tr, batch_size=config.batch_size, shuffle=True)\n",
        "dataloader_va = DataLoader(data_va, batch_size=config.batch_size)\n",
        "dataloader_te = DataLoader(data_te, batch_size=config.batch_size)"
      ],
      "metadata": {
        "id": "QArzDL2dUPoh"
      },
      "execution_count": null,
      "outputs": []
    },
    {
      "cell_type": "code",
      "source": [
        "class DoubleConv(nn.Module):\n",
        "    def __init__(self, in_channels, out_channels):\n",
        "        super().__init__()\n",
        "        self.double_conv = nn.Sequential(\n",
        "            nn.Conv2d(in_channels, out_channels, kernel_size=3, padding=1),\n",
        "            nn.ReLU(inplace=True),\n",
        "            nn.Conv2d(out_channels, out_channels, kernel_size=3, padding=1),\n",
        "            nn.ReLU(inplace=True),\n",
        "        )\n",
        "\n",
        "    def forward(self, x):\n",
        "        x = self.double_conv(x)\n",
        "        return x\n",
        "\n",
        "\n",
        "class DownConv(nn.Module):\n",
        "    def __init__(self, in_channels, out_channels):\n",
        "        super().__init__()\n",
        "        self.down_conv = nn.Sequential(\n",
        "            nn.MaxPool2d(2), DoubleConv(in_channels, out_channels)\n",
        "        )\n",
        "\n",
        "    def forward(self, x):\n",
        "        x = self.down_conv(x)\n",
        "        return x\n",
        "class UpConv(nn.Module):\n",
        "    def __init__(self, in_channels, out_channels):\n",
        "        super().__init__()\n",
        "        self.up = nn.ConvTranspose2d(\n",
        "            in_channels=in_channels,\n",
        "            out_channels=in_channels // 2,\n",
        "            kernel_size=2,\n",
        "            stride=2,\n",
        "        )\n",
        "        self.conv = DoubleConv(in_channels, out_channels)\n",
        "\n",
        "    def forward(self, x1, x2):\n",
        "        x1 = self.up(x1)\n",
        "        x = torch.cat([x1, x2], dim=1)\n",
        "        x = self.conv(x)\n",
        "        return x"
      ],
      "metadata": {
        "id": "1sH0dIXZUUrH"
      },
      "execution_count": null,
      "outputs": []
    },
    {
      "cell_type": "code",
      "source": [
        "class UNet(nn.Module):\n",
        "    def __init__(self):\n",
        "        super().__init__()\n",
        "        self.conv = DoubleConv(in_channels=3, out_channels=64)\n",
        "        self.down1 = DownConv(in_channels=64, out_channels=128)\n",
        "        self.down2 = DownConv(in_channels=128, out_channels=256)\n",
        "        self.down3 = DownConv(in_channels=256, out_channels=512)\n",
        "        self.up3 = UpConv(in_channels=512, out_channels=256)\n",
        "        self.up2 = UpConv(in_channels=256, out_channels=128)\n",
        "        self.up1 = UpConv(in_channels=128, out_channels=64)\n",
        "        self.out = nn.Conv2d(in_channels=64, out_channels=1, kernel_size=1)\n",
        "\n",
        "    def forward(self, x):\n",
        "        x1 = self.conv(x)  # (3, 256, 256) -> (64, 256, 256)\n",
        "        x2 = self.down1(x1)  # (64, 256, 256) -> (128, 128, 128)\n",
        "        x3 = self.down2(x2)  # (128, 128, 128) -> (256, 64, 64)\n",
        "        x = self.down3(x3)  # (256, 64, 64) -> (512, 32, 32)\n",
        "        x = self.up3(x, x3)  # (512, 32, 32) -> (256, 64, 64)\n",
        "        x = self.up2(x, x2)  # (256, 64, 64) -> (128, 128, 128)\n",
        "        x = self.up1(x, x1)  # (128, 128, 128) -> (64, 256, 256)\n",
        "        out = self.out(x)  # (64, 256, 256) -> (1, 256, 256)\n",
        "        return torch.sigmoid(out)"
      ],
      "metadata": {
        "id": "9FTTB1lyUaWc"
      },
      "execution_count": null,
      "outputs": []
    },
    {
      "cell_type": "code",
      "source": [
        "def dice_coef_loss(y_hat, y):\n",
        "    smooth = 1.0\n",
        "    intersection = 2.0 * ((y * y_hat).sum()) + smooth\n",
        "    union = y.sum() + y_hat.sum() + smooth\n",
        "\n",
        "    return 1 - (intersection / union)\n",
        "\n",
        "\n",
        "def bce_dice_loss(y_hat, y):\n",
        "    dicescore = dice_coef_loss(y_hat, y)\n",
        "    bcescore = nn.BCELoss()\n",
        "    bceloss = bcescore(y_hat, y)\n",
        "\n",
        "    return bceloss + dicescore"
      ],
      "metadata": {
        "id": "aqXcjhvWUdTK"
      },
      "execution_count": null,
      "outputs": []
    },
    {
      "cell_type": "code",
      "source": [
        "class UNetPL(pl.LightningModule):\n",
        "    def __init__(self, config):\n",
        "        super().__init__()\n",
        "        self.model = UNet()\n",
        "        self.loss_fn = bce_dice_loss\n",
        "        self.config = config\n",
        "\n",
        "    def forward(self, x):\n",
        "        x = self.model(x)\n",
        "        return x\n",
        "\n",
        "    def configure_optimizers(self):\n",
        "        optimizer = torch.optim.Adam(self.parameters(), lr=self.config.lr)\n",
        "        return optimizer\n",
        "\n",
        "    def training_step(self, batch, batch_index):\n",
        "        x, y = batch\n",
        "        y_hat = self(x)\n",
        "        loss = self.loss_fn(y_hat, y)\n",
        "        self.log(\"train_loss\", loss, on_step=True, on_epoch=True)\n",
        "        return loss\n",
        "\n",
        "    def validation_step(self, batch, batch_index):\n",
        "        x, y = batch\n",
        "        y_hat = self(x)\n",
        "        loss = self.loss_fn(y_hat, y)\n",
        "        self.log(\"valid_loss\", loss)\n",
        "        return loss"
      ],
      "metadata": {
        "id": "8ejmCFK7Uhas"
      },
      "execution_count": null,
      "outputs": []
    },
    {
      "cell_type": "code",
      "source": [
        "def test_step(self, batch, batch_idx):\n",
        "        x, y = batch\n",
        "        y_hat = self(x)\n",
        "        loss = self.loss_fn(y_hat, y)\n",
        "        self.log(\"test_loss\", loss)\n",
        "        return loss\n",
        "\n",
        "    def training_epoch_end(self, outputs):\n",
        "        print(f\"epoch: {self.current_epoch} / {self.config.max_epochs}\")\n",
        "        loss = (sum(output['loss'] for output in outputs) / len(outputs)).item()\n",
        "        print(\"train loss:\", loss)\n",
        "\n",
        "    def validation_epoch_end(self, outputs):\n",
        "        loss = (sum(outputs) / len(outputs)).item()\n",
        "        print(\"valid loss:\", loss)\n"
      ],
      "metadata": {
        "id": "BvmlOnCpUkdA"
      },
      "execution_count": null,
      "outputs": []
    },
    {
      "cell_type": "code",
      "source": [
        "callback_checkpoint = ModelCheckpoint(dirpath='/kaggle/working/', save_top_k=1, monitor='valid_loss')\n",
        "callback_earlystopping = EarlyStopping(monitor='valid_loss', patience=config.early_stopping_patience)\n",
        "callbacks = [callback_checkpoint, callback_earlystopping]\n",
        "\n",
        "model = UNetPL(config)\n",
        "trainer = pl.Trainer(max_epochs=config.max_epochs, callbacks=callbacks, accelerator='gpu')\n",
        "\n",
        "trainer.fit(model, dataloader_tr, dataloader_va)"
      ],
      "metadata": {
        "id": "1XcxGWC1UovN"
      },
      "execution_count": null,
      "outputs": []
    },
    {
      "cell_type": "code",
      "source": [
        "trainer.test(dataloaders=dataloader_te, ckpt_path='best')"
      ],
      "metadata": {
        "id": "3pzxjKpaUtJm"
      },
      "execution_count": null,
      "outputs": []
    },
    {
      "cell_type": "code",
      "source": [
        "data_te_x = BrainMriDataset(file_list[n_train:], transform=transform, train=False)\n",
        "dataloader_te_x = DataLoader(data_te_x, batch_size=1)\n",
        "preds = trainer.predict(dataloaders=dataloader_te_x, ckpt_path='best')"
      ],
      "metadata": {
        "id": "TJbjYz82UwiE"
      },
      "execution_count": null,
      "outputs": []
    },
    {
      "cell_type": "code",
      "source": [
        "idx_list = [444, 400, 700]\n",
        "fig, ax = plt.subplots(len(idx_list), 3, figsize=(16, 16))\n",
        "\n",
        "for i, idx in enumerate(idx_list):\n",
        "    file = file_list[n_train+idx]\n",
        "    img = cv2.imread(file)\n",
        "    mask = cv2.imread(mask_of(file), 0)\n",
        "    pred = torch.squeeze(preds[idx])\n",
        "\n",
        "    ax[i, 0].imshow(img)\n",
        "    ax[i, 1].imshow(mask)\n",
        "    ax[i, 2].imshow(pred)"
      ],
      "metadata": {
        "id": "X1QtzLTpU0aJ"
      },
      "execution_count": null,
      "outputs": []
    }
  ]
}